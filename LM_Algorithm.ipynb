{
 "cells": [
  {
   "cell_type": "code",
   "execution_count": 1,
   "metadata": {
    "collapsed": true
   },
   "outputs": [],
   "source": [
    "import numpy as np\n",
    "from matplotlib import pyplot as plt\n",
    "from util import make_rotation_matrix\n",
    "import tensorflow as tf\n",
    "%matplotlib inline"
   ]
  },
  {
   "cell_type": "markdown",
   "metadata": {},
   "source": [
    "##Load data"
   ]
  },
  {
   "cell_type": "code",
   "execution_count": 2,
   "metadata": {
    "collapsed": true
   },
   "outputs": [],
   "source": [
    "# load images, from which the image coordinates were picked\n",
    "# 4-dimensional tensor: (image,ydim,xdim,color)\n",
    "images = np.load(\"images.npy\") # 4 dime\n",
    "\n",
    "# load image coordinates, picked by hand\n",
    "# 3-dimensional tensor (image,object class,spatial dim)\n",
    "# for example the imagecoords[0][1] would return the (x,y) coordiante\n",
    "# of 1st object from the 0th image.\n",
    "imagecoords = np.load(\"imagecoords.npy\")\n",
    "\n",
    "# load mask of objects not visible in the images\n",
    "# same dimensions as imagecoords\n",
    "observed_mask = np.load(\"observed_mask.npy\")\n",
    "\n",
    "# useful things\n",
    "aspect_ratio = 2688.0/1520.0 #dimensions of the original images\n",
    "objclass_colors = (\"red\",\"green\",\"blue\",\"yellow\",\"orange\",\"purple\")"
   ]
  },
  {
   "cell_type": "markdown",
   "metadata": {},
   "source": [
    "##Make a rough guess about camera and object locations"
   ]
  },
  {
   "cell_type": "code",
   "execution_count": 3,
   "metadata": {
    "collapsed": true
   },
   "outputs": [],
   "source": [
    "# make a rough guess about the camera positions and orientations\n",
    "\n",
    "camera_pos = np.array([[150,100,50],\n",
    "              [150,100,-100],\n",
    "              [-20,150,-400],\n",
    "              [-150,100,-50],\n",
    "              [0,200,30],\n",
    "              [100,50,-10]],dtype=np.float32) # rough guess\n",
    "camera_orientation = np.array([[0,45,0],\n",
    "                      [0,100,0],\n",
    "                      [0,-170,0],\n",
    "                      [0,-90,0],\n",
    "                      [-90,0,0],\n",
    "                      [0,90,0]],dtype=np.float32) # rough guess; note, in degrees\n",
    "\n",
    "camera_orientation = np.pi * camera_orientation/180 #convert to radians\n",
    "\n",
    "obj_pos = np.array( [[75,20,-50],\n",
    "             [75,20,-45],\n",
    "             [-65,20,-45],\n",
    "             [85,5,-50],\n",
    "             [10,30,-100],\n",
    "             [10,0,-100]],dtype=np.float32 )"
   ]
  },
  {
   "cell_type": "markdown",
   "metadata": {},
   "source": [
    "##Visualize initial guess for cameras and objects"
   ]
  },
  {
   "cell_type": "code",
   "execution_count": 5,
   "metadata": {
    "collapsed": false
   },
   "outputs": [
    {
     "data": {
      "image/png": "[encoded data removed]",
      "text/plain": [
       "<matplotlib.figure.Figure at 0x1145cb490>"
      ]
     },
     "metadata": {},
     "output_type": "display_data"
    },
    {
     "data": {
      "image/png": "[encoded data removed]",
      "text/plain": [
       "<matplotlib.figure.Figure at 0x114727c10>"
      ]
     },
     "metadata": {},
     "output_type": "display_data"
    }
   ],
   "source": [
    "\n",
    "look_normals = []\n",
    "for alpha,beta,gamma in camera_orientation:\n",
    "    A = make_rotation_matrix( -alpha,-beta,-gamma )\n",
    "    looky = [0,0,-50]\n",
    "    look_normals.append( np.dot(np.linalg.inv(A),looky) )\n",
    "look_normals = np.array(look_normals)\n",
    "look_endpoints = camera_pos+look_normals\n",
    "\n",
    "# looking at the whole scene from the top\n",
    "cx,cz = camera_pos.T[[0,2]]\n",
    "px,pz = obj_pos.T[[0,2]]\n",
    "plt.figure(figsize=(4,6))\n",
    "plt.xlim(-200,200)\n",
    "plt.ylim(-500,100)\n",
    "plt.gca().invert_yaxis()\n",
    "plt.scatter(cx,cz,c=\"blue\",lw=0.5)\n",
    "plt.scatter(px,pz,c=objclass_colors,lw=0.5)\n",
    "plt.title(\"top view\")\n",
    "\n",
    "for i in range(6):\n",
    "    cx,cy,cz = camera_pos[i]\n",
    "    lx,ly,lz = look_endpoints[i]\n",
    "    \n",
    "    plt.plot([cx,lx],[cz,lz],c=\"black\")\n",
    "plt.show()\n",
    "\n",
    "# looking at the whole scene from the front\n",
    "cx,cz = camera_pos.T[[0,1]]\n",
    "px,pz = obj_pos.T[[0,1]]\n",
    "# plt.figure(figsize=(4,6))\n",
    "# plt.xlim(-200,200)\n",
    "# plt.ylim(-500,100)\n",
    "plt.scatter(cx,cz,c=\"blue\",lw=0.5)\n",
    "plt.scatter(px,pz,c=(\"red\",\"green\",\"blue\",\"yellow\",\"orange\",\"purple\"),lw=0.5)\n",
    "plt.title(\"front view\")\n",
    "\n",
    "for i in range(6):\n",
    "    cx,cy,cz = camera_pos[i]\n",
    "    lx,ly,lz = look_endpoints[i]\n",
    "    \n",
    "    plt.plot([cx,lx],[cy,ly],c=\"black\")\n",
    "plt.show()"
   ]
  },
  {
   "cell_type": "markdown",
   "metadata": {},
   "source": [
    "##Set up Theano computation graph for projection errors\n",
    "\n",
    "I started in TensorFlow, but Theano has Jacobian computation and TF does not."
   ]
  },
  {
   "cell_type": "code",
   "execution_count": 7,
   "metadata": {
    "collapsed": false
   },
   "outputs": [],
   "source": [
    "from theano import tensor as T\n",
    "import theano as th\n",
    "from theano import gradient\n",
    "\n",
    "# # camera orientation variables\n",
    "# homo_camera_pos = np.hstack( (camera_pos, np.ones( (nimages,1) )) )\n",
    "# tfcam_pos = tf.Variable(np.array(camera_pos,dtype=np.float32)*0.001) #scale camera position\n",
    "# tfcam_orient = tf.Variable(camera_orientation)\n",
    "\n",
    "cam_pos = T.fmatrix('cam_pos')\n",
    "\n",
    "# scale camera position\n",
    "scaled_cam_pos = cam_pos*1.0\n",
    "\n",
    "# pad the matrix with ones to make it into homogeneous coordinates\n",
    "ncams = T.shape(cam_pos)[0]\n",
    "ones_col = T.alloc(1,ncams,1)\n",
    "homo_cam_pos = T.concatenate([scaled_cam_pos,ones_col],axis=1)\n",
    "\n",
    "thcam_orient = T.fmatrix('cam_orient')\n",
    "\n",
    "# object positions\n",
    "tfobj_pos = T.fmatrix('obj_pos')\n",
    "\n",
    "# scale object posiion\n",
    "scaled_obj_pos = tfobj_pos*1.0\n",
    "\n",
    "# turn object positions into homogeneous coordinates\n",
    "nobjs = T.shape(tfobj_pos)[0]\n",
    "ones_col = T.alloc(1,nobjs,1)\n",
    "homo_obj_pos = T.concatenate([scaled_obj_pos,ones_col],axis=1)\n",
    "\n",
    "# image coordinates\n",
    "# transpose the dimensions from (image,object class,spatial dim) to (image,spatial dim,object_class)\n",
    "thimagecoords = T.ftensor3('imagecoords')\n",
    "thsideways_imagecoords = thimagecoords.dimshuffle(0,2,1)\n",
    "\n",
    "# observed points mask\n",
    "# transpose the dimensions from (image,object class,spatial dim) to (image,spatial dim,object_class)\n",
    "#tfobserved_mask = tf.cast( tf.transpose( tf.constant(observed_mask), (0,2,1) ), tf.float32 )\n",
    "thobserved_mask = T.ftensor3('observed_mask')\n",
    "thsideways_observed_mask = thobserved_mask.dimshuffle(0,2,1)\n",
    "\n",
    "# focal length!\n",
    "thfocal_length = T.fscalar('focal_length')\n",
    "\n",
    "# take an [n,3] stack of num_images euler angle orientation and return\n",
    "# [n,3,3] stack of rotation matrices\n",
    "def thmake_rotation_matrix(theta):\n",
    "    a = theta[:,0]\n",
    "    b = theta[:,1]\n",
    "    c = theta[:,2]\n",
    "    \n",
    "    ncameras = theta.shape[0]\n",
    "    \n",
    "    zero = T.zeros_like(a)\n",
    "    one = T.ones_like(a)\n",
    "    \n",
    "    A_x = T.stacklists([[one,zero,zero,zero],\n",
    "                        [zero,T.cos(a),-T.sin(a),zero],\n",
    "                        [zero,T.sin(a),T.cos(a),zero],\n",
    "                        [zero,zero,zero,one]]).dimshuffle(2,0,1)\n",
    "    \n",
    "    A_y = T.stacklists([[T.cos(b),zero,T.sin(b),zero],\n",
    "                        [zero,one,zero,zero],\n",
    "                        [-T.sin(b),zero,T.cos(b),zero],\n",
    "                        [zero,zero,zero,one]]).dimshuffle(2,0,1)\n",
    "    \n",
    "    A_z = T.stacklists([[T.cos(c),-T.sin(c),zero,zero],\n",
    "                        [T.sin(c),T.cos(c),zero,zero],\n",
    "                        [zero,zero,one,zero],\n",
    "                        [zero,zero,zero,one]]).dimshuffle(2,0,1)\n",
    "    \n",
    "    A = T.batched_dot(T.batched_dot(A_x,A_y),A_z)\n",
    "    \n",
    "    return A\n",
    "\n",
    "def thmake_translation_matrix(pos):\n",
    "    x = pos[:,0]\n",
    "    y = pos[:,1]\n",
    "    z = pos[:,2]\n",
    "    \n",
    "    zero = T.zeros_like(x)\n",
    "    one = T.ones_like(x)\n",
    "    \n",
    "    A = T.stacklists([[one,zero,zero,x],\n",
    "                      [zero,one,zero,y],\n",
    "                      [zero,zero,one,z],\n",
    "                      [zero,zero,zero,one]]).dimshuffle(2,0,1)\n",
    "    \n",
    "    return A\n",
    "\n",
    "rotation_operators = thmake_rotation_matrix(-thcam_orient)\n",
    "translation_operators = thmake_translation_matrix(-homo_cam_pos)\n",
    "transform_operators = T.batched_dot(rotation_operators,translation_operators)\n",
    "\n",
    "#points in camera reference frame\n",
    "thbroadcast_pos = T.shape_padleft( homo_obj_pos.transpose(), 1 ).repeat(ncams,axis=0)\n",
    "thcam_transform_pts = T.batched_dot(transform_operators,thbroadcast_pos)\n",
    "\n",
    "# points projected into perspective\n",
    "# we could use a projection matrix but this is actually pretty simple\n",
    "thdepth = T.shape_padleft(thcam_transform_pts[:,2,:]).dimshuffle(1,0,2)\n",
    "thbigness = thfocal_length/-thdepth\n",
    "thprojpoint = (thcam_transform_pts*thbigness)[:,0:2,:]\n",
    "\n",
    "# find the loss\n",
    "R = thsideways_observed_mask*(thprojpoint - thsideways_imagecoords)\n",
    "#thloss = T.square( thresiduals ).mean()\n",
    "\n",
    "Jf = gradient.jacobian(thprojpoint.flatten(),\n",
    "                      [cam_pos,thcam_orient,tfobj_pos], \n",
    "                      consider_constant=[thfocal_length])"
   ]
  },
  {
   "cell_type": "code",
   "execution_count": 8,
   "metadata": {
    "collapsed": true
   },
   "outputs": [],
   "source": [
    "# compile functions from expressions \n",
    "\n",
    "R_fun = th.function([cam_pos,thcam_orient,tfobj_pos,thfocal_length,thimagecoords,thobserved_mask],R)\n",
    "Jf_fun = th.function([cam_pos,thcam_orient,tfobj_pos,thfocal_length],Jf)\n",
    "projpoint_fun = th.function([cam_pos,thcam_orient,tfobj_pos,thfocal_length],thprojpoint)"
   ]
  },
  {
   "cell_type": "markdown",
   "metadata": {},
   "source": [
    "## Implement Levenberg–Marquardt algorithm\n",
    "\n",
    "In principle one could compile all of this into the theano graph, but that's premature optimization for now."
   ]
  },
  {
   "cell_type": "code",
   "execution_count": 10,
   "metadata": {
    "collapsed": true
   },
   "outputs": [],
   "source": [
    "# array-shaping boilerplate\n",
    "\n",
    "def flatten_jacobian(J):\n",
    "    n = J[0].shape[0]\n",
    "    flattened_js = []\n",
    "    for j in J:\n",
    "        flattened_js.append( j.reshape(n,-1) )\n",
    "    return np.hstack(flattened_js)\n",
    "\n",
    "def unflatten_delta_params(flat_params, like_arrays):\n",
    "    i = 0\n",
    "    delta_params = []\n",
    "    for ary in like_arrays:\n",
    "        rows,cols = ary.shape\n",
    "        n = rows*cols\n",
    "        delta_params.append( flat_params[i:i+n].reshape(rows,cols) )\n",
    "        i += n\n",
    "    return delta_params"
   ]
  },
  {
   "cell_type": "code",
   "execution_count": 11,
   "metadata": {
    "collapsed": true
   },
   "outputs": [],
   "source": [
    "# scale camera and object points into the same\n",
    "# approximate range as the camera orientation's\n",
    "# radian euler angles\n",
    "points_scale = 0.001\n",
    "\n",
    "xcampos = camera_pos.copy()*points_scale\n",
    "xcamorient = camera_orientation.copy()\n",
    "xobjpos = obj_pos.copy()*points_scale"
   ]
  },
  {
   "cell_type": "code",
   "execution_count": 12,
   "metadata": {
    "collapsed": false
   },
   "outputs": [
    {
     "name": "stdout",
     "output_type": "stream",
     "text": [
      "0.184608777364\n",
      "DIVERGE, new lambda:0.00330791350781\n",
      "DIVERGE, new lambda:0.00496187026172\n",
      "9.67413652688e-05\n",
      "6.12380034808e-05\n",
      "5.62874871927e-05\n",
      "5.2222257687e-05\n",
      "4.88369259983e-05\n",
      "4.60577009815e-05\n",
      "4.38079393158e-05\n",
      "4.20072400529e-05\n",
      "4.05774723428e-05\n",
      "3.94478233324e-05\n",
      "3.85568321993e-05\n",
      "3.78527361641e-05\n",
      "3.7292458324e-05\n",
      "3.68405631485e-05\n",
      "3.64666694723e-05\n",
      "3.61413371542e-05\n",
      "3.58287943527e-05\n",
      "3.54576429042e-05\n",
      "DIVERGE, new lambda:8.48818428272e-07\n",
      "3.48807209068e-05\n",
      "3.30122452902e-05\n",
      "DIVERGE, new lambda:5.89875200725e-07\n",
      "DIVERGE, new lambda:6.84651278737e-07\n",
      "2.9370149908e-05\n",
      "2.33449003038e-05\n",
      "DIVERGE, new lambda:3.87533439768e-07\n",
      "1.8498372002e-05\n",
      "DIVERGE, new lambda:5.24623394086e-07\n",
      "1.45822284847e-05\n",
      "1.13674242231e-05\n",
      "8.96541718652e-06\n",
      "7.18210018628e-06\n",
      "DIVERGE, new lambda:1.01130725638e-07\n",
      "6.00274991787e-06\n",
      "DIVERGE, new lambda:8.19705116564e-08\n",
      "5.07362427824e-06\n",
      "DIVERGE, new lambda:9.51408290353e-08\n",
      "4.35230160494e-06\n",
      "3.71366250975e-06\n",
      "DIVERGE, new lambda:5.3852601877e-08\n",
      "3.25273584975e-06\n",
      "DIVERGE, new lambda:4.36496950067e-08\n",
      "2.87931026024e-06\n",
      "2.52638427709e-06\n",
      "DIVERGE, new lambda:2.73762376626e-08\n",
      "2.26541609057e-06\n",
      "2.02023147722e-06\n",
      "1.81081324829e-06\n",
      "1.64126645864e-06\n",
      "1.49444046353e-06\n",
      "1.36487182721e-06\n",
      "DIVERGE, new lambda:1.70737355091e-09\n",
      "DIVERGE, new lambda:2.56106032636e-09\n",
      "DIVERGE, new lambda:3.84159048954e-09\n",
      "1.2815157283e-06\n",
      "DIVERGE, new lambda:3.27764553741e-09\n",
      "DIVERGE, new lambda:4.91646830611e-09\n",
      "1.20025965265e-06\n",
      "1.10772816697e-06\n",
      "1.02593831899e-06\n",
      "9.56213827724e-07\n",
      "8.94245507273e-07\n",
      "8.39280043389e-07\n",
      "7.90294305059e-07\n",
      "DIVERGE, new lambda:3.22763506888e-10\n",
      "DIVERGE, new lambda:4.84145260332e-10\n",
      "DIVERGE, new lambda:7.26217890499e-10\n",
      "DIVERGE, new lambda:1.08932683575e-09\n",
      "DIVERGE, new lambda:1.63399025362e-09\n",
      "DIVERGE, new lambda:2.45098538043e-09\n",
      "DIVERGE, new lambda:3.67647807065e-09\n",
      "DIVERGE, new lambda:5.51471710597e-09\n",
      "7.83748873801e-07\n",
      "DIVERGE, new lambda:6.40077445846e-09\n",
      "DIVERGE, new lambda:9.60116168769e-09\n",
      "7.45723152957e-07\n",
      "7.06653029031e-07\n",
      "6.71842877232e-07\n",
      "DIVERGE, new lambda:2.78978292457e-09\n",
      "DIVERGE, new lambda:4.18467438686e-09\n",
      "6.44739682482e-07\n",
      "DIVERGE, new lambda:5.66500295121e-09\n",
      "6.18769263383e-07\n",
      "5.93343581083e-07\n",
      "DIVERGE, new lambda:2.23926316928e-09\n",
      "5.71945848707e-07\n",
      "DIVERGE, new lambda:3.35889475392e-09\n",
      "DIVERGE, new lambda:5.03834213088e-09\n",
      "DIVERGE, new lambda:7.55751319631e-09\n",
      "DIVERGE, new lambda:1.13362697945e-08\n",
      "5.58093486486e-07\n",
      "5.37714438704e-07\n",
      "5.191900022e-07\n",
      "DIVERGE, new lambda:4.25695221416e-09\n",
      "DIVERGE, new lambda:6.38542832124e-09\n",
      "5.05916230193e-07\n",
      "4.90302530428e-07\n",
      "4.7578012325e-07\n",
      "DIVERGE, new lambda:1.5907703157e-09\n",
      "DIVERGE, new lambda:2.38615547355e-09\n",
      "4.65281118522e-07\n",
      "DIVERGE, new lambda:3.57923321033e-09\n",
      "DIVERGE, new lambda:5.36884981549e-09\n",
      "DIVERGE, new lambda:8.05327472324e-09\n",
      "DIVERGE, new lambda:1.20799120849e-08\n",
      "DIVERGE, new lambda:1.81198681273e-08\n",
      "DIVERGE, new lambda:2.71798021909e-08\n",
      "4.60141766073e-07\n",
      "4.48383869096e-07\n",
      "4.376591581e-07\n",
      "4.27881584781e-07\n",
      "DIVERGE, new lambda:4.97743236726e-09\n",
      "4.20139309022e-07\n",
      "4.11778703185e-07\n",
      "4.04274639247e-07\n",
      "3.97018286296e-07\n",
      "DIVERGE, new lambda:9.59490851511e-10\n",
      "DIVERGE, new lambda:1.43923627727e-09\n",
      "3.91715047954e-07\n",
      "DIVERGE, new lambda:2.1588544159e-09\n",
      "DIVERGE, new lambda:3.23828162385e-09\n",
      "DIVERGE, new lambda:4.85742243577e-09\n",
      "3.87433172162e-07\n",
      "3.81474794469e-07\n",
      "3.76144978671e-07\n",
      "3.71217285849e-07\n",
      "3.66669686021e-07\n",
      "3.62583124216e-07\n",
      "3.58747582949e-07\n",
      "DIVERGE, new lambda:2.34411377966e-10\n",
      "DIVERGE, new lambda:3.51617066949e-10\n",
      "DIVERGE, new lambda:5.27425600423e-10\n",
      "DIVERGE, new lambda:7.91138400635e-10\n",
      "DIVERGE, new lambda:1.18670760095e-09\n",
      "DIVERGE, new lambda:1.78006140143e-09\n",
      "DIVERGE, new lambda:2.67009210214e-09\n",
      "DIVERGE, new lambda:4.00513815321e-09\n",
      "3.57988003291e-07\n",
      "3.54418918707e-07\n",
      "3.51111339114e-07\n",
      "DIVERGE, new lambda:1.66647534392e-09\n",
      "DIVERGE, new lambda:2.49971301588e-09\n",
      "DIVERGE, new lambda:3.74956952382e-09\n",
      "3.49029758379e-07\n",
      "3.46112554123e-07\n",
      "3.43378234094e-07\n",
      "3.40832760533e-07\n",
      "3.38508824724e-07\n",
      "3.36362821448e-07\n",
      "3.34348846486e-07\n",
      "DIVERGE, new lambda:1.7190077288e-10\n",
      "DIVERGE, new lambda:2.5785115932e-10\n",
      "DIVERGE, new lambda:3.86776738981e-10\n",
      "DIVERGE, new lambda:5.80165108471e-10\n",
      "DIVERGE, new lambda:8.70247662706e-10\n",
      "DIVERGE, new lambda:1.30537149406e-09\n",
      "3.33635651057e-07\n",
      "3.31715455104e-07\n",
      "3.30031929884e-07\n",
      "DIVERGE, new lambda:6.33497200471e-10\n",
      "DIVERGE, new lambda:9.50245800706e-10\n",
      "DIVERGE, new lambda:1.42536870106e-09\n",
      "DIVERGE, new lambda:2.13805305159e-09\n",
      "3.2909757566e-07\n",
      "DIVERGE, new lambda:1.82418715955e-09\n",
      "DIVERGE, new lambda:2.73628073933e-09\n",
      "DIVERGE, new lambda:4.104421109e-09\n",
      "3.28062115942e-07\n",
      "DIVERGE, new lambda:6.1566316635e-09\n",
      "DIVERGE, new lambda:9.23494749524e-09\n",
      "DIVERGE, new lambda:1.38524212429e-08\n",
      "3.26991034348e-07\n",
      "3.25654026609e-07\n",
      "3.24394275392e-07\n",
      "3.23242299298e-07\n",
      "3.22025243804e-07\n",
      "DIVERGE, new lambda:1.44292721186e-09\n",
      "DIVERGE, new lambda:2.16439081779e-09\n",
      "DIVERGE, new lambda:3.24658622669e-09\n",
      "DIVERGE, new lambda:4.86987934003e-09\n",
      "DIVERGE, new lambda:7.30481901005e-09\n",
      "3.21492128326e-07\n",
      "DIVERGE, new lambda:1.09572285151e-08\n",
      "DIVERGE, new lambda:1.64358427726e-08\n",
      "DIVERGE, new lambda:2.46537641589e-08\n",
      "3.20833578371e-07\n",
      "3.19874415153e-07\n",
      "3.18995110623e-07\n",
      "3.18179546513e-07\n",
      "3.17411730874e-07\n",
      "3.16691006851e-07\n",
      "3.16021340849e-07\n",
      "3.15394168461e-07\n",
      "DIVERGE, new lambda:6.42893913291e-10\n",
      "DIVERGE, new lambda:9.64340869937e-10\n",
      "DIVERGE, new lambda:1.4465113049e-09\n",
      "DIVERGE, new lambda:2.16976695736e-09\n",
      "DIVERGE, new lambda:3.25465043604e-09\n",
      "DIVERGE, new lambda:4.88197565405e-09\n",
      "DIVERGE, new lambda:7.32296348108e-09\n",
      "DIVERGE, new lambda:1.09844452216e-08\n",
      "3.15276692062e-07\n",
      "DIVERGE, new lambda:1.64766678324e-08\n",
      "DIVERGE, new lambda:2.47150017487e-08\n",
      "3.14791224001e-07\n",
      "3.142655108e-07\n",
      "3.13756117976e-07\n",
      "3.13274692113e-07\n",
      "DIVERGE, new lambda:5.01501816984e-09\n",
      "DIVERGE, new lambda:7.52252725475e-09\n",
      "DIVERGE, new lambda:1.12837908821e-08\n",
      "DIVERGE, new lambda:1.69256863232e-08\n",
      "3.13037010831e-07\n",
      "3.12607198794e-07\n",
      "DIVERGE, new lambda:1.06154604589e-08\n",
      "DIVERGE, new lambda:1.59231906884e-08\n",
      "DIVERGE, new lambda:2.38847860325e-08\n",
      "3.12326493359e-07\n",
      "3.11940665496e-07\n",
      "3.11569616921e-07\n",
      "3.11240127202e-07\n",
      "3.10929307387e-07\n",
      "3.10639810171e-07\n",
      "DIVERGE, new lambda:1.82886530421e-09\n",
      "DIVERGE, new lambda:2.74329795631e-09\n",
      "DIVERGE, new lambda:4.11494693447e-09\n",
      "DIVERGE, new lambda:6.1724204017e-09\n",
      "DIVERGE, new lambda:9.25863060255e-09\n",
      "DIVERGE, new lambda:1.38879459038e-08\n",
      "DIVERGE, new lambda:2.08319188557e-08\n",
      "3.10556515615e-07\n",
      "3.10299179142e-07\n",
      "DIVERGE, new lambda:1.87092590012e-08\n",
      "DIVERGE, new lambda:2.80638885018e-08\n",
      "DIVERGE, new lambda:4.20958327528e-08\n",
      "DIVERGE, new lambda:4.64164579285e-08\n",
      "3.10138602799e-07\n",
      "DIVERGE, new lambda:6.96246868927e-08\n",
      "3.09929494809e-07\n",
      "DIVERGE, new lambda:6.58213767246e-08\n",
      "3.09732184986e-07\n",
      "DIVERGE, new lambda:5.06833239782e-08\n",
      "3.0954106478e-07\n",
      "3.09334963175e-07\n",
      "DIVERGE, new lambda:3.01982129868e-08\n",
      "3.09173477338e-07\n",
      "3.09000622817e-07\n",
      "3.08837823266e-07\n",
      "3.08681693342e-07\n",
      "DIVERGE, new lambda:5.82125621302e-09\n",
      "DIVERGE, new lambda:8.73188431953e-09\n",
      "DIVERGE, new lambda:1.30978264793e-08\n",
      "DIVERGE, new lambda:1.96467397189e-08\n",
      "DIVERGE, new lambda:2.94701095784e-08\n",
      "3.08610929601e-07\n",
      "3.08465334658e-07\n",
      "DIVERGE, new lambda:1.94558717303e-08\n",
      "DIVERGE, new lambda:2.91838075955e-08\n",
      "3.08369130329e-07\n",
      "3.08241801071e-07\n",
      "3.08121495133e-07\n",
      "3.0801013256e-07\n",
      "3.07912008187e-07\n",
      "3.07812822737e-07\n",
      "DIVERGE, new lambda:2.60634260507e-09\n",
      "3.07731852445e-07\n",
      "3.07639462941e-07\n",
      "DIVERGE, new lambda:1.63464726559e-09\n",
      "DIVERGE, new lambda:2.45197089839e-09\n",
      "DIVERGE, new lambda:3.67795634758e-09\n",
      "DIVERGE, new lambda:4.05545382777e-09\n",
      "3.07593583986e-07\n",
      "DIVERGE, new lambda:4.95478873396e-09\n",
      "DIVERGE, new lambda:6.05355958685e-09\n",
      "3.07531106753e-07\n",
      "DIVERGE, new lambda:9.08033938028e-09\n",
      "DIVERGE, new lambda:1.36205090704e-08\n",
      "DIVERGE, new lambda:2.04307636056e-08\n",
      "3.07478659225e-07\n",
      "DIVERGE, new lambda:1.34881858856e-08\n",
      "3.07413756673e-07\n",
      "DIVERGE, new lambda:2.02322788285e-08\n",
      "DIVERGE, new lambda:3.03484182427e-08\n",
      "DIVERGE, new lambda:4.5522627364e-08\n",
      "3.07411482936e-07 7.39634029082e-06\n"
     ]
    }
   ],
   "source": [
    "R_0 = R_fun( xcampos,\n",
    "             xcamorient,\n",
    "             xobjpos,\n",
    "             0.8,\n",
    "             imagecoords.astype(np.float32),\n",
    "             observed_mask.astype(np.float32) ).flatten()\n",
    "meanloss = np.sum( np.square( R_0 ) )/R_0.size\n",
    "\n",
    "losstrace = []\n",
    "\n",
    "lam = 0.003\n",
    "max_iters = 2000\n",
    "i=0\n",
    "while True:\n",
    "    losstrace.append( meanloss )\n",
    "    J_0 = flatten_jacobian( Jf_fun( xcampos, xcamorient, xobjpos, 0.8 ) )\n",
    "\n",
    "    if i%10==0:\n",
    "        print meanloss\n",
    "\n",
    "    approx_hessian = np.dot(J_0.T,J_0)\n",
    "    I = np.identity(approx_hessian.shape[0])\n",
    "\n",
    "    loss_grad = np.dot(-J_0.T,R_0)\n",
    "\n",
    "    # approx_hessian . delta = loss_grad\n",
    "    # solve for delta, using pseudo-inverse\n",
    "    delta = np.dot( np.linalg.pinv(approx_hessian + lam*I), loss_grad ).astype(np.float32)\n",
    "\n",
    "    dcampos, dcamorient, dobjpos = unflatten_delta_params(delta, (xcampos,xcamorient,xobjpos) )\n",
    "    \n",
    "    # try out old paramaters plus the delta\n",
    "    R_1 = R_fun( xcampos+dcampos,\n",
    "                      xcamorient+dcamorient,\n",
    "                      xobjpos+dobjpos,\n",
    "                      0.8,\n",
    "                      imagecoords.astype(np.float32),\n",
    "                      observed_mask.astype(np.float32) ).flatten()\n",
    "    meanloss_1 = np.sum( np.square( R_1 ) )/R_1.size\n",
    "    \n",
    "    # if it's better, use it and continue iterating\n",
    "    if meanloss_1 < meanloss:\n",
    "        xcampos += dcampos\n",
    "        xcamorient += dcamorient\n",
    "        xobjpos += dobjpos\n",
    "        \n",
    "        # check if we've converged\n",
    "        if abs(meanloss_1-meanloss)/meanloss < 0.00001:\n",
    "            print meanloss_1, abs(meanloss_1-meanloss)/meanloss\n",
    "            break\n",
    "        \n",
    "        R_0 = R_1\n",
    "        meanloss = meanloss_1\n",
    "        \n",
    "        lam *= 0.95\n",
    "    else:\n",
    "        lam *= 1.5\n",
    "        print \"DIVERGE, new lambda:%s\"%lam\n",
    "    \n",
    "    i += 1\n",
    "    if i>max_iters:\n",
    "        break"
   ]
  },
  {
   "cell_type": "code",
   "execution_count": 14,
   "metadata": {
    "collapsed": false
   },
   "outputs": [
    {
     "data": {
      "text/plain": [
       "[<matplotlib.lines.Line2D at 0x11fe68bd0>]"
      ]
     },
     "execution_count": 14,
     "metadata": {},
     "output_type": "execute_result"
    },
    {
     "data": {
      "image/png": "[encoded data removed]",
      "text/plain": [
       "<matplotlib.figure.Figure at 0x11fddf790>"
      ]
     },
     "metadata": {},
     "output_type": "display_data"
    }
   ],
   "source": [
    "# plot the loss\n",
    "\n",
    "plt.semilogy()\n",
    "plt.xlabel(\"iteration\")\n",
    "plt.ylabel(\"loss (mean square residual)\")\n",
    "plt.plot( losstrace )"
   ]
  },
  {
   "cell_type": "markdown",
   "metadata": {},
   "source": [
    "Within just a few iterations, the LM algorithm drops the loss by four orders of magnitude. It levels out into a saddlepoint, falls off the side of the saddlepoint, and converges in what is hopefully a local minima."
   ]
  },
  {
   "cell_type": "markdown",
   "metadata": {},
   "source": [
    "##Visualize the result"
   ]
  },
  {
   "cell_type": "code",
   "execution_count": 15,
   "metadata": {
    "collapsed": true
   },
   "outputs": [],
   "source": [
    "solved_cam_pos = xcampos/points_scale\n",
    "solved_cam_orient = xcamorient\n",
    "solved_obj_pos = xobjpos/points_scale"
   ]
  },
  {
   "cell_type": "code",
   "execution_count": 16,
   "metadata": {
    "collapsed": false
   },
   "outputs": [
    {
     "data": {
      "image/png": "[encoded data removed]",
      "text/plain": [
       "<matplotlib.figure.Figure at 0x1201070d0>"
      ]
     },
     "metadata": {},
     "output_type": "display_data"
    },
    {
     "data": {
      "image/png": "[encoded data removed]",
      "text/plain": [
       "<matplotlib.figure.Figure at 0x11f619550>"
      ]
     },
     "metadata": {},
     "output_type": "display_data"
    }
   ],
   "source": [
    "look_normals = []\n",
    "for alpha,beta,gamma in solved_cam_orient:\n",
    "    A = make_rotation_matrix( -alpha,-beta,-gamma )\n",
    "    looky = [0,0,-50]\n",
    "    look_normals.append( np.dot(np.linalg.inv(A),looky) )\n",
    "look_normals = np.array(look_normals)\n",
    "look_endpoints = solved_cam_pos+look_normals\n",
    "\n",
    "# looking at the whole scene from the top\n",
    "cx,cz = solved_cam_pos.T[[0,2]]\n",
    "px,pz = solved_obj_pos.T[[0,2]]\n",
    "plt.figure(figsize=(8,7))\n",
    "plt.xlim(-300,500)\n",
    "plt.ylim(-500,200)\n",
    "plt.gca().invert_yaxis()\n",
    "plt.scatter(cx,cz,c=\"blue\",lw=0.5)\n",
    "plt.scatter(px,pz,c=objclass_colors,lw=0.5)\n",
    "plt.title(\"top view\")\n",
    "\n",
    "for i in range(6):\n",
    "    cx,cy,cz = solved_cam_pos[i]\n",
    "    lx,ly,lz = look_endpoints[i]\n",
    "    \n",
    "    plt.plot([cx,lx],[cz,lz],c=\"black\")\n",
    "    plt.text(cx+4,cz-4,str(i))\n",
    "plt.show()\n",
    "\n",
    "# looking at the whole scene from the front\n",
    "cx,cz = solved_cam_pos.T[[0,1]]\n",
    "px,pz = solved_obj_pos.T[[0,1]]\n",
    "plt.figure(figsize=(9,5))\n",
    "plt.xlim(-300,500)\n",
    "plt.ylim(-100,400)\n",
    "plt.scatter(cx,cz,c=\"blue\",lw=0.5)\n",
    "plt.scatter(px,pz,c=(\"red\",\"green\",\"blue\",\"yellow\",\"orange\",\"purple\"),lw=0.5)\n",
    "plt.title(\"front view\")\n",
    "\n",
    "for i in range(6):\n",
    "    cx,cy,cz = solved_cam_pos[i]\n",
    "    lx,ly,lz = look_endpoints[i]\n",
    "    \n",
    "    plt.plot([cx,lx],[cy,ly],c=\"black\")\n",
    "    plt.text(cx+4,cy+4,str(i))\n",
    "plt.show()"
   ]
  },
  {
   "cell_type": "markdown",
   "metadata": {},
   "source": [
    "##Plot observed image coordinates vs. coordinates predicted by fit model"
   ]
  },
  {
   "cell_type": "code",
   "execution_count": 18,
   "metadata": {
    "collapsed": false
   },
   "outputs": [
    {
     "name": "stdout",
     "output_type": "stream",
     "text": [
      "camera 0\n"
     ]
    },
    {
     "data": {
      "image/png": "[encoded data removed]",
      "text/plain": [
       "<matplotlib.figure.Figure at 0x120175710>"
      ]
     },
     "metadata": {},
     "output_type": "display_data"
    },
    {
     "name": "stdout",
     "output_type": "stream",
     "text": [
      "camera 1\n"
     ]
    },
    {
     "data": {
      "image/png": "[encoded data removed]",
      "text/plain": [
       "<matplotlib.figure.Figure at 0x114353190>"
      ]
     },
     "metadata": {},
     "output_type": "display_data"
    },
    {
     "name": "stdout",
     "output_type": "stream",
     "text": [
      "camera 2\n"
     ]
    },
    {
     "data": {
      "image/png": "[encoded data removed]",
      "text/plain": [
       "<matplotlib.figure.Figure at 0x1201a2290>"
      ]
     },
     "metadata": {},
     "output_type": "display_data"
    },
    {
     "name": "stdout",
     "output_type": "stream",
     "text": [
      "camera 3\n"
     ]
    },
    {
     "data": {
      "image/png": "[encoded data removed]",
      "text/plain": [
       "<matplotlib.figure.Figure at 0x120563c10>"
      ]
     },
     "metadata": {},
     "output_type": "display_data"
    },
    {
     "name": "stdout",
     "output_type": "stream",
     "text": [
      "camera 4\n"
     ]
    },
    {
     "data": {
      "image/png": "[encoded data removed]",
      "text/plain": [
       "<matplotlib.figure.Figure at 0x1206b9390>"
      ]
     },
     "metadata": {},
     "output_type": "display_data"
    },
    {
     "name": "stdout",
     "output_type": "stream",
     "text": [
      "camera 5\n"
     ]
    },
    {
     "data": {
      "image/png": "[encoded data removed]",
      "text/plain": [
       "<matplotlib.figure.Figure at 0x120801b90>"
      ]
     },
     "metadata": {},
     "output_type": "display_data"
    }
   ],
   "source": [
    "projpoint_val = projpoint_fun( solved_cam_pos, solved_cam_orient, solved_obj_pos, 0.8 )\n",
    "\n",
    "for i in range(6):\n",
    "    print \"camera %d\"%i\n",
    "    plt.figure(figsize=(8,6))\n",
    "    plt.xlim(-0.5,0.5)\n",
    "    plt.ylim(-0.5/aspect_ratio,0.5/aspect_ratio)\n",
    "    plt.scatter( *imagecoords[i].T, c=\"white\", s=50 )\n",
    "    plt.scatter( *projpoint_val[i], marker=\"+\",c=\"red\" )\n",
    "    plt.show()"
   ]
  },
  {
   "cell_type": "code",
   "execution_count": null,
   "metadata": {
    "collapsed": true
   },
   "outputs": [],
   "source": []
  }
 ],
 "metadata": {
  "kernelspec": {
   "display_name": "Python 2",
   "language": "python",
   "name": "python2"
  },
  "language_info": {
   "codemirror_mode": {
    "name": "ipython",
    "version": 2
   },
   "file_extension": ".py",
   "mimetype": "text/x-python",
   "name": "python",
   "nbconvert_exporter": "python",
   "pygments_lexer": "ipython2",
   "version": "2.7.10"
  }
 },
 "nbformat": 4,
 "nbformat_minor": 0
}
